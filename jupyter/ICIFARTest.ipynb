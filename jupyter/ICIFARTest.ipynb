{
 "cells": [
  {
   "cell_type": "code",
   "execution_count": 1,
   "metadata": {},
   "outputs": [],
   "source": [
    "import sys\n",
    "sys.path.insert(0, \"/home/fcdl/Develop/ICL/\")\n",
    "from data.iCIFAR import ICIFAR\n",
    "from torchvision.transforms import transforms\n",
    "import torch\n",
    "import matplotlib.pyplot as plt\n",
    "import numpy as np\n",
    "from data.common import DatasetPrototypes\n"
   ]
  },
  {
   "cell_type": "code",
   "execution_count": 4,
   "metadata": {},
   "outputs": [
    {
     "name": "stdout",
     "output_type": "stream",
     "text": [
      "Files already downloaded and verified\n",
      "Files already downloaded and verified\n"
     ]
    }
   ],
   "source": [
    "transform = transforms.Compose([transforms.ToTensor(), transforms.Normalize(ICIFAR.MEAN, ICIFAR.STD)])\n",
    "\n",
    "augmentation = transforms.RandomCrop((32,32), padding=4)\n",
    "\n",
    "data = ICIFAR('/home/fcdl/dataset', num_cl_first=5, num_cl_after=5, \n",
    "              augmentation=None, transform=transform, batch_size=64, run_number=0, workers=8)\n",
    "#data.order"
   ]
  },
  {
   "cell_type": "code",
   "execution_count": 11,
   "metadata": {},
   "outputs": [],
   "source": [
    "# Show example image\n",
    "data.train_dataset[0][0].show()"
   ]
  },
  {
   "cell_type": "code",
   "execution_count": 18,
   "metadata": {
    "scrolled": true
   },
   "outputs": [
    {
     "name": "stdout",
     "output_type": "stream",
     "text": [
      "---------------Same order!\n",
      "tensor([[[ 1.8426,  1.8426,  1.8426,  ...,  0.9630,  1.2122,  0.7724],\n",
      "         [ 1.8426,  1.8280,  1.8280,  ...,  0.5965,  0.4646,  0.2447],\n",
      "         [ 1.8426,  1.8280,  1.8426,  ...,  0.8751,  0.5379, -0.1218],\n",
      "         ...,\n",
      "         [ 0.2740,  0.1860,  0.1567,  ..., -1.4559, -0.9428, -0.7815],\n",
      "         [-0.1072, -0.1365, -0.0485,  ..., -1.5732, -0.4737,  0.1714],\n",
      "         [-0.6203, -0.6056, -0.4150,  ..., -1.3973, -0.3564,  0.1274]],\n",
      "\n",
      "        [[ 2.0012,  2.0012,  2.0012,  ...,  1.2367,  1.5272,  1.0686],\n",
      "         [ 2.0012,  1.9859,  1.9859,  ...,  0.7934,  0.6710,  0.4570],\n",
      "         [ 2.0012,  1.9859,  2.0012,  ...,  1.1450,  0.8239,  0.1359],\n",
      "         ...,\n",
      "         [ 0.9310,  0.8851,  0.8392,  ..., -1.6376, -0.9496, -0.7202],\n",
      "         [ 0.5029,  0.4723,  0.5487,  ..., -1.6528, -0.1851,  0.5640],\n",
      "         [-0.0322, -0.0322,  0.1512,  ..., -1.3471,  0.1359,  0.7475]],\n",
      "\n",
      "        [[ 2.0254,  2.0254,  2.0254,  ...,  1.1447,  1.3010,  0.7755],\n",
      "         [ 2.0254,  2.0111,  2.0111,  ...,  0.5340,  0.2499,  0.0085],\n",
      "         [ 2.0254,  2.0111,  2.0254,  ...,  0.8039,  0.2499, -0.3608],\n",
      "         ...,\n",
      "         [-0.4745, -0.7869, -0.7443,  ..., -1.5823, -1.3835, -1.3125],\n",
      "         [-0.6591, -0.7727, -0.5881,  ..., -1.5539, -0.8011, -0.3608],\n",
      "         [-1.0142, -1.0426, -0.8011,  ..., -1.4545, -0.7585, -0.4745]]])\n",
      "tensor([[[ 1.8426,  1.8426,  1.8426,  ...,  0.9630,  1.2122,  0.7724],\n",
      "         [ 1.8426,  1.8280,  1.8280,  ...,  0.5965,  0.4646,  0.2447],\n",
      "         [ 1.8426,  1.8280,  1.8426,  ...,  0.8751,  0.5379, -0.1218],\n",
      "         ...,\n",
      "         [ 0.2740,  0.1860,  0.1567,  ..., -1.4559, -0.9428, -0.7815],\n",
      "         [-0.1072, -0.1365, -0.0485,  ..., -1.5732, -0.4737,  0.1714],\n",
      "         [-0.6203, -0.6056, -0.4150,  ..., -1.3973, -0.3564,  0.1274]],\n",
      "\n",
      "        [[ 2.0012,  2.0012,  2.0012,  ...,  1.2367,  1.5272,  1.0686],\n",
      "         [ 2.0012,  1.9859,  1.9859,  ...,  0.7934,  0.6710,  0.4570],\n",
      "         [ 2.0012,  1.9859,  2.0012,  ...,  1.1450,  0.8239,  0.1359],\n",
      "         ...,\n",
      "         [ 0.9310,  0.8851,  0.8392,  ..., -1.6376, -0.9496, -0.7202],\n",
      "         [ 0.5029,  0.4723,  0.5487,  ..., -1.6528, -0.1851,  0.5640],\n",
      "         [-0.0322, -0.0322,  0.1512,  ..., -1.3471,  0.1359,  0.7475]],\n",
      "\n",
      "        [[ 2.0254,  2.0254,  2.0254,  ...,  1.1447,  1.3010,  0.7755],\n",
      "         [ 2.0254,  2.0111,  2.0111,  ...,  0.5340,  0.2499,  0.0085],\n",
      "         [ 2.0254,  2.0111,  2.0254,  ...,  0.8039,  0.2499, -0.3608],\n",
      "         ...,\n",
      "         [-0.4745, -0.7869, -0.7443,  ..., -1.5823, -1.3835, -1.3125],\n",
      "         [-0.6591, -0.7727, -0.5881,  ..., -1.5539, -0.8011, -0.3608],\n",
      "         [-1.0142, -1.0426, -0.8011,  ..., -1.4545, -0.7585, -0.4745]]])\n"
     ]
    },
    {
     "data": {
      "image/png": "[encoded data removed]",
      "text/plain": [
       "<Figure size 432x288 with 1 Axes>"
      ]
     },
     "metadata": {
      "needs_background": "light"
     },
     "output_type": "display_data"
    }
   ],
   "source": [
    "# Check if get dataloader returns the same images and in the same order as get images\n",
    "# And, moreover, that images are returned as tensor not normalized or augmented\n",
    "# That dataloader and prototypes are normalized in the same way\n",
    "\n",
    "proto = data.get_images_of_class(19)\n",
    "proto_y = torch.ones(len(proto))*19\n",
    "\n",
    "proto_set = DatasetPrototypes(proto, proto_y, transform) # same as applying the target transform to proto\n",
    "\n",
    "dl = data.get_dataloader_of_class(19)\n",
    "# reconstruct the list of images from dataloader\n",
    "ll = []\n",
    "for img, tar in dl:\n",
    "    ll.append(img)\n",
    "\n",
    "images = torch.cat(ll)\n",
    "\n",
    "flag = True\n",
    "for i in range(500):\n",
    "    if not torch.all(torch.eq(images[i], proto_set[i][0])):\n",
    "        flag = False\n",
    "        \n",
    "if flag:\n",
    "    print(\"---------------Same order!\")\n",
    "else:\n",
    "    print(\"---------------Not same order\")\n",
    "\n",
    "npimg = proto[0].numpy()\n",
    "plt.imshow(np.transpose(npimg, (1, 2, 0)))\n",
    "print(proto_set[0][0])\n",
    "print(images[0])"
   ]
  },
  {
   "cell_type": "code",
   "execution_count": 13,
   "metadata": {
    "scrolled": true
   },
   "outputs": [
    {
     "name": "stdout",
     "output_type": "stream",
     "text": [
      "tensor([13, 21, 24, 27, 87])\n"
     ]
    }
   ],
   "source": [
    "# check if dataloader of training works\n",
    "# call next iteration 1st time should return classes [19, 40, 47, 67, 74]\n",
    "# call next iteration 2nd time should return classes [13, 21, 24, 27, 87]\n",
    "# call next iteration 3nd time should return classes [ 6, 23, 57, 75, 88]\n",
    "\n",
    "data_loader = data.next_iteration()\n",
    "\n",
    "count = 0\n",
    "first = True\n",
    "for inp, target in data_loader:\n",
    "    count += inp.shape[0]\n",
    "    if first:\n",
    "        print(target.unique().sort()[0])\n",
    "        first = False\n",
    "\n",
    "assert count == 2500, \"Not all samples are returned\""
   ]
  },
  {
   "cell_type": "code",
   "execution_count": 12,
   "metadata": {},
   "outputs": [
    {
     "name": "stdout",
     "output_type": "stream",
     "text": [
      "tensor([ 3,  4, 19, 40, 47, 67, 74])\n"
     ]
    }
   ],
   "source": [
    "# check if dataloader of training works\n",
    "# call next iteration 1st time should return classes [19, 40, 47, 67, 74] + 3, 4\n",
    "# call next iteration 2nd time should return classes [13, 21, 24, 27, 87] + 3, 4\n",
    "# call next iteration 3nd time should return classes [ 6, 23, 57, 75, 88] + 3, 4\n",
    "\n",
    "data.reset_iteration()\n",
    "\n",
    "proto_x = []\n",
    "proto_y = []\n",
    "\n",
    "proto_x.append(data.get_images_of_class(3))\n",
    "proto_y.append(torch.ones(500)*3)\n",
    "\n",
    "proto_x.append(data.get_images_of_class(4))\n",
    "proto_y.append(torch.ones(500)*4)\n",
    "\n",
    "proto_x = torch.cat(proto_x)\n",
    "proto_y = torch.cat(proto_y)\n",
    "\n",
    "data_loader = data.next_iteration(proto_x, proto_y)\n",
    "\n",
    "count = 0\n",
    "first = True\n",
    "for inp, target in data_loader:\n",
    "    count += inp.shape[0]\n",
    "    if first:\n",
    "        print(target.unique().sort()[0])\n",
    "        first = False\n",
    "\n",
    "assert count == 3500, \"Not all samples are returned\""
   ]
  },
  {
   "cell_type": "code",
   "execution_count": 36,
   "metadata": {},
   "outputs": [
    {
     "name": "stdout",
     "output_type": "stream",
     "text": [
      "They should be:\n",
      " [6, 13, 19, 21, 23, 24, 27, 40, 47, 57, 67, 74, 75, 87, 88]\n",
      "They are\n",
      " [6, 13, 19, 21, 23, 24, 27, 40, 47, 57, 67, 74, 75, 87, 88]\n",
      "1500\n"
     ]
    }
   ],
   "source": [
    "# check if dataloader of validation works\n",
    "\n",
    "iteration=3\n",
    "dl = data.test_dataloader(iteration=iteration-1)\n",
    "\n",
    "x = [19, 47, 74, 40, 67, 21, 27, 24, 87, 13,  6, 57, 23, 88, 75]\n",
    "print(f\"They should be:\\n {sorted(x[:iteration*5])}\")\n",
    "\n",
    "count = 0\n",
    "classes = []\n",
    "for inp, target in dl:\n",
    "    count += inp.shape[0]\n",
    "    classes += [x.item() for x in target.unique().sort()[0]]\n",
    "\n",
    "classes = sorted(list(set(classes)))\n",
    "\n",
    "print(f\"They are\\n {classes}\")\n",
    "print(count)\n",
    "assert count == iteration*5*100, \"Not all samples are returned\"\n"
   ]
  },
  {
   "cell_type": "code",
   "execution_count": null,
   "metadata": {},
   "outputs": [],
   "source": []
  }
 ],
 "metadata": {
  "kernelspec": {
   "display_name": "Python 3",
   "language": "python",
   "name": "python3"
  },
  "language_info": {
   "codemirror_mode": {
    "name": "ipython",
    "version": 3
   },
   "file_extension": ".py",
   "mimetype": "text/x-python",
   "name": "python",
   "nbconvert_exporter": "python",
   "pygments_lexer": "ipython3",
   "version": "3.7.2"
  }
 },
 "nbformat": 4,
 "nbformat_minor": 1
}
