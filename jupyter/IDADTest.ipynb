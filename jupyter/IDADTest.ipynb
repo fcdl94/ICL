{
 "cells": [
  {
   "cell_type": "code",
   "execution_count": 1,
   "metadata": {},
   "outputs": [],
   "source": [
    "import sys\n",
    "sys.path.insert(0, \"/home/fcdl/Develop/ICL/\")\n",
    "from data.idadataloader import IDADataloader\n",
    "from data.mnist_m import MNISTM\n",
    "from torchvision.datasets.folder import ImageFolder\n",
    "from torchvision.transforms import transforms\n"
   ]
  },
  {
   "cell_type": "code",
   "execution_count": 2,
   "metadata": {},
   "outputs": [],
   "source": [
    "root = '/home/fcdl/dataset'\n",
    "#transform = transforms.Compose([transforms.RandomCrop(64), transforms.ToTensor()])\n",
    "\n",
    "data = MNISTM(root)\n"
   ]
  },
  {
   "cell_type": "code",
   "execution_count": 6,
   "metadata": {},
   "outputs": [],
   "source": [
    "data[0][0].show()"
   ]
  },
  {
   "cell_type": "code",
   "execution_count": 5,
   "metadata": {},
   "outputs": [
    {
     "name": "stdout",
     "output_type": "stream",
     "text": [
      "tensor(20) tensor(24)\n",
      "tensor(20) tensor(24)\n",
      "tensor(20) tensor(24)\n",
      "tensor(20) tensor(24)\n",
      "tensor(20) tensor(24)\n",
      "tensor(20) tensor(24)\n",
      "tensor(21) tensor(23)\n"
     ]
    }
   ],
   "source": [
    "dl = data.next_iteration()\n",
    "\n",
    "for input, target in dl:\n",
    "    print(target.min(), target.max())\n"
   ]
  },
  {
   "cell_type": "code",
   "execution_count": 8,
   "metadata": {},
   "outputs": [
    {
     "name": "stdout",
     "output_type": "stream",
     "text": [
      "tensor([ 0,  1,  2,  3,  4,  5,  6,  7,  8,  9, 10, 11, 12, 13, 14, 15, 16, 17,\n",
      "        18, 19, 20, 21, 22, 23, 24, 25, 26, 27, 28, 29, 30, 31, 32, 33, 34])\n",
      "tensor(0) tensor(34)\n",
      "tensor(0) tensor(34)\n",
      "tensor(0) tensor(33)\n",
      "tensor(0) tensor(34)\n",
      "tensor(0) tensor(34)\n",
      "tensor(0) tensor(34)\n",
      "tensor(0) tensor(34)\n",
      "tensor(0) tensor(34)\n",
      "tensor(0) tensor(34)\n",
      "tensor(0) tensor(34)\n",
      "tensor(0) tensor(34)\n",
      "tensor(0) tensor(33)\n",
      "tensor(0) tensor(31)\n",
      "tensor(0) tensor(34)\n",
      "tensor(0) tensor(34)\n",
      "tensor(0) tensor(34)\n",
      "tensor(1) tensor(34)\n",
      "tensor(0) tensor(34)\n",
      "tensor(0) tensor(34)\n",
      "tensor(0) tensor(34)\n",
      "tensor(0) tensor(34)\n",
      "tensor(0) tensor(34)\n",
      "tensor(0) tensor(34)\n",
      "tensor(0) tensor(34)\n",
      "tensor(3) tensor(33)\n"
     ]
    }
   ],
   "source": [
    "dl = data.test_dataloader(iteration=3)\n",
    "\n",
    "for input, target in dl:\n",
    "    print(target.min(), target.max())\n"
   ]
  },
  {
   "cell_type": "code",
   "execution_count": 5,
   "metadata": {},
   "outputs": [],
   "source": [
    "data.reset_iteration()"
   ]
  },
  {
   "cell_type": "code",
   "execution_count": null,
   "metadata": {},
   "outputs": [],
   "source": []
  }
 ],
 "metadata": {
  "kernelspec": {
   "display_name": "Python 3",
   "language": "python",
   "name": "python3"
  },
  "language_info": {
   "codemirror_mode": {
    "name": "ipython",
    "version": 3
   },
   "file_extension": ".py",
   "mimetype": "text/x-python",
   "name": "python",
   "nbconvert_exporter": "python",
   "pygments_lexer": "ipython3",
   "version": "3.7.2"
  }
 },
 "nbformat": 4,
 "nbformat_minor": 1
}
